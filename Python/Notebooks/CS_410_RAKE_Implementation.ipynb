{
 "cells": [
  {
   "cell_type": "code",
   "execution_count": 1,
   "metadata": {
    "id": "8aWRCoSP2W4c",
    "outputId": "133f43e5-8063-4597-d1d8-f1b0dcca925d",
    "colab": {
     "base_uri": "https://localhost:8080/"
    },
    "pycharm": {
     "name": "#%%\n"
    }
   },
   "outputs": [
    {
     "output_type": "stream",
     "name": "stdout",
     "text": [
      "2022-11-12 00:17:18.673123: E tensorflow/stream_executor/cuda/cuda_driver.cc:271] failed call to cuInit: CUDA_ERROR_NO_DEVICE: no CUDA-capable device is detected\n",
      "Looking in indexes: https://pypi.org/simple, https://us-python.pkg.dev/colab-wheels/public/simple/\n",
      "Collecting en-core-web-sm==3.4.1\n",
      "  Downloading https://github.com/explosion/spacy-models/releases/download/en_core_web_sm-3.4.1/en_core_web_sm-3.4.1-py3-none-any.whl (12.8 MB)\n",
      "\u001B[K     |████████████████████████████████| 12.8 MB 11.7 MB/s \n",
      "\u001B[?25hRequirement already satisfied: spacy<3.5.0,>=3.4.0 in /usr/local/lib/python3.7/dist-packages (from en-core-web-sm==3.4.1) (3.4.2)\n",
      "Requirement already satisfied: typing-extensions<4.2.0,>=3.7.4 in /usr/local/lib/python3.7/dist-packages (from spacy<3.5.0,>=3.4.0->en-core-web-sm==3.4.1) (4.1.1)\n",
      "Requirement already satisfied: langcodes<4.0.0,>=3.2.0 in /usr/local/lib/python3.7/dist-packages (from spacy<3.5.0,>=3.4.0->en-core-web-sm==3.4.1) (3.3.0)\n",
      "Requirement already satisfied: pathy>=0.3.5 in /usr/local/lib/python3.7/dist-packages (from spacy<3.5.0,>=3.4.0->en-core-web-sm==3.4.1) (0.6.2)\n",
      "Requirement already satisfied: thinc<8.2.0,>=8.1.0 in /usr/local/lib/python3.7/dist-packages (from spacy<3.5.0,>=3.4.0->en-core-web-sm==3.4.1) (8.1.5)\n",
      "Requirement already satisfied: tqdm<5.0.0,>=4.38.0 in /usr/local/lib/python3.7/dist-packages (from spacy<3.5.0,>=3.4.0->en-core-web-sm==3.4.1) (4.64.1)\n",
      "Requirement already satisfied: spacy-loggers<2.0.0,>=1.0.0 in /usr/local/lib/python3.7/dist-packages (from spacy<3.5.0,>=3.4.0->en-core-web-sm==3.4.1) (1.0.3)\n",
      "Requirement already satisfied: pydantic!=1.8,!=1.8.1,<1.11.0,>=1.7.4 in /usr/local/lib/python3.7/dist-packages (from spacy<3.5.0,>=3.4.0->en-core-web-sm==3.4.1) (1.10.2)\n",
      "Requirement already satisfied: setuptools in /usr/local/lib/python3.7/dist-packages (from spacy<3.5.0,>=3.4.0->en-core-web-sm==3.4.1) (57.4.0)\n",
      "Requirement already satisfied: murmurhash<1.1.0,>=0.28.0 in /usr/local/lib/python3.7/dist-packages (from spacy<3.5.0,>=3.4.0->en-core-web-sm==3.4.1) (1.0.9)\n",
      "Requirement already satisfied: jinja2 in /usr/local/lib/python3.7/dist-packages (from spacy<3.5.0,>=3.4.0->en-core-web-sm==3.4.1) (2.11.3)\n",
      "Requirement already satisfied: wasabi<1.1.0,>=0.9.1 in /usr/local/lib/python3.7/dist-packages (from spacy<3.5.0,>=3.4.0->en-core-web-sm==3.4.1) (0.10.1)\n",
      "Requirement already satisfied: numpy>=1.15.0 in /usr/local/lib/python3.7/dist-packages (from spacy<3.5.0,>=3.4.0->en-core-web-sm==3.4.1) (1.21.6)\n",
      "Requirement already satisfied: preshed<3.1.0,>=3.0.2 in /usr/local/lib/python3.7/dist-packages (from spacy<3.5.0,>=3.4.0->en-core-web-sm==3.4.1) (3.0.8)\n",
      "Requirement already satisfied: catalogue<2.1.0,>=2.0.6 in /usr/local/lib/python3.7/dist-packages (from spacy<3.5.0,>=3.4.0->en-core-web-sm==3.4.1) (2.0.8)\n",
      "Requirement already satisfied: packaging>=20.0 in /usr/local/lib/python3.7/dist-packages (from spacy<3.5.0,>=3.4.0->en-core-web-sm==3.4.1) (21.3)\n",
      "Requirement already satisfied: spacy-legacy<3.1.0,>=3.0.10 in /usr/local/lib/python3.7/dist-packages (from spacy<3.5.0,>=3.4.0->en-core-web-sm==3.4.1) (3.0.10)\n",
      "Requirement already satisfied: requests<3.0.0,>=2.13.0 in /usr/local/lib/python3.7/dist-packages (from spacy<3.5.0,>=3.4.0->en-core-web-sm==3.4.1) (2.23.0)\n",
      "Requirement already satisfied: cymem<2.1.0,>=2.0.2 in /usr/local/lib/python3.7/dist-packages (from spacy<3.5.0,>=3.4.0->en-core-web-sm==3.4.1) (2.0.7)\n",
      "Requirement already satisfied: srsly<3.0.0,>=2.4.3 in /usr/local/lib/python3.7/dist-packages (from spacy<3.5.0,>=3.4.0->en-core-web-sm==3.4.1) (2.4.5)\n",
      "Requirement already satisfied: typer<0.5.0,>=0.3.0 in /usr/local/lib/python3.7/dist-packages (from spacy<3.5.0,>=3.4.0->en-core-web-sm==3.4.1) (0.4.2)\n",
      "Requirement already satisfied: zipp>=0.5 in /usr/local/lib/python3.7/dist-packages (from catalogue<2.1.0,>=2.0.6->spacy<3.5.0,>=3.4.0->en-core-web-sm==3.4.1) (3.10.0)\n",
      "Requirement already satisfied: pyparsing!=3.0.5,>=2.0.2 in /usr/local/lib/python3.7/dist-packages (from packaging>=20.0->spacy<3.5.0,>=3.4.0->en-core-web-sm==3.4.1) (3.0.9)\n",
      "Requirement already satisfied: smart-open<6.0.0,>=5.2.1 in /usr/local/lib/python3.7/dist-packages (from pathy>=0.3.5->spacy<3.5.0,>=3.4.0->en-core-web-sm==3.4.1) (5.2.1)\n",
      "Requirement already satisfied: certifi>=2017.4.17 in /usr/local/lib/python3.7/dist-packages (from requests<3.0.0,>=2.13.0->spacy<3.5.0,>=3.4.0->en-core-web-sm==3.4.1) (2022.9.24)\n",
      "Requirement already satisfied: urllib3!=1.25.0,!=1.25.1,<1.26,>=1.21.1 in /usr/local/lib/python3.7/dist-packages (from requests<3.0.0,>=2.13.0->spacy<3.5.0,>=3.4.0->en-core-web-sm==3.4.1) (1.24.3)\n",
      "Requirement already satisfied: idna<3,>=2.5 in /usr/local/lib/python3.7/dist-packages (from requests<3.0.0,>=2.13.0->spacy<3.5.0,>=3.4.0->en-core-web-sm==3.4.1) (2.10)\n",
      "Requirement already satisfied: chardet<4,>=3.0.2 in /usr/local/lib/python3.7/dist-packages (from requests<3.0.0,>=2.13.0->spacy<3.5.0,>=3.4.0->en-core-web-sm==3.4.1) (3.0.4)\n",
      "Requirement already satisfied: confection<1.0.0,>=0.0.1 in /usr/local/lib/python3.7/dist-packages (from thinc<8.2.0,>=8.1.0->spacy<3.5.0,>=3.4.0->en-core-web-sm==3.4.1) (0.0.3)\n",
      "Requirement already satisfied: blis<0.8.0,>=0.7.8 in /usr/local/lib/python3.7/dist-packages (from thinc<8.2.0,>=8.1.0->spacy<3.5.0,>=3.4.0->en-core-web-sm==3.4.1) (0.7.9)\n",
      "Requirement already satisfied: click<9.0.0,>=7.1.1 in /usr/local/lib/python3.7/dist-packages (from typer<0.5.0,>=0.3.0->spacy<3.5.0,>=3.4.0->en-core-web-sm==3.4.1) (7.1.2)\n",
      "Requirement already satisfied: MarkupSafe>=0.23 in /usr/local/lib/python3.7/dist-packages (from jinja2->spacy<3.5.0,>=3.4.0->en-core-web-sm==3.4.1) (2.0.1)\n",
      "\u001B[38;5;2m✔ Download and installation successful\u001B[0m\n",
      "You can now load the package via spacy.load('en_core_web_sm')\n"
     ]
    }
   ],
   "source": [
    "!python -m spacy download en_core_web_sm"
   ]
  },
  {
   "cell_type": "code",
   "execution_count": 2,
   "metadata": {
    "id": "1rTDIGWc2W4h",
    "colab": {
     "base_uri": "https://localhost:8080/"
    },
    "outputId": "7dd5b6cb-cf86-4175-ac67-d4240c1a72f3",
    "pycharm": {
     "name": "#%%\n"
    }
   },
   "outputs": [
    {
     "output_type": "stream",
     "name": "stderr",
     "text": [
      "[nltk_data] Downloading package punkt to /root/nltk_data...\n",
      "[nltk_data]   Unzipping tokenizers/punkt.zip.\n"
     ]
    }
   ],
   "source": [
    "from collections import OrderedDict\n",
    "import numpy as np\n",
    "import spacy\n",
    "import nltk\n",
    "from spacy.lang.en.stop_words import STOP_WORDS\n",
    "nltk.download('punkt')\n",
    "nlp = spacy.load('en_core_web_sm')\n",
    "import string\n"
   ]
  },
  {
   "cell_type": "code",
   "execution_count": null,
   "metadata": {
    "id": "A2pu7s5Z2W4i",
    "pycharm": {
     "name": "#%%\n"
    }
   },
   "outputs": [],
   "source": []
  },
  {
   "cell_type": "code",
   "execution_count": 2,
   "metadata": {
    "id": "y-8CY9TO2W4j",
    "pycharm": {
     "name": "#%%\n"
    }
   },
   "outputs": [],
   "source": []
  },
  {
   "cell_type": "code",
   "execution_count": 3,
   "metadata": {
    "id": "hNTo1Ws32W4k",
    "pycharm": {
     "name": "#%%\n"
    }
   },
   "outputs": [],
   "source": [
    "# RAKE Implementation\n",
    "import nltk\n",
    "import string\n",
    "import numpy\n",
    "import sys\n",
    "numpy.set_printoptions(threshold=sys.maxsize)\n",
    "\n",
    "text = '''\n",
    "This place was absolutely horrible I thought it would be good but the place was just overall dirty and smelled musty I recommend to anyone that is thinking about going here don't I thought I found something close to a bug in my tamale but wasn't sure so I just threw it away and didn't want to take the chance worst place I have ever been too\n",
    "'''\n",
    "\n",
    "# text = '''\n",
    "# Compatibility of systems of linear constraints over the set of natural numbers.\n",
    "# Criteria of compatibility of a system of linear Diophantine equations, strict inequations,\n",
    "# and nonstrict inequations are considered. Upper bounds for components of a minimal set\n",
    "# of solutions and algorithms of construction of minimal generating sets of solutions for all\n",
    "# types of systems are given. These criteria and the corresponding algorithms for\n",
    "# constructing a minimal supporting set of solutions can be used in solving all the\n",
    "# considered types of systems and systems of mixed types.\n",
    "# '''\n",
    "\n",
    "def RakeExtract(text):\n",
    "        text_tokens = nltk.word_tokenize(text)\n",
    "        sub_tokens = []\n",
    "\n",
    "        for word in text_tokens:\n",
    "            if word in STOP_WORDS or word in string.punctuation:\n",
    "                sub_tokens.append(\"-\")\n",
    "            else:\n",
    "                sub_tokens.append(word)\n",
    "\n",
    "\n",
    "        spacetokens = []\n",
    "\n",
    "        res = \"\"\n",
    "\n",
    "        for i in range(0,len(sub_tokens)-1):\n",
    "            if sub_tokens[i] == \"-\":\n",
    "                if res != \"\":\n",
    "                    spacetokens.append(res)\n",
    "                spacetokens.append(\"-\")\n",
    "                res = \"\"\n",
    "            if res == \"\" and sub_tokens[i] != \"-\":\n",
    "                res = sub_tokens[i]\n",
    "\n",
    "            if sub_tokens[i] != \"-\" and sub_tokens[i+1] != \"-\":\n",
    "                res+= \" \" + sub_tokens[i+1]\n",
    "\n",
    "        if sub_tokens[-1] != \"-\":\n",
    "            res += sub_tokens[-1]\n",
    "        spacetokens.append(res)\n",
    "\n",
    "\n",
    "        wrdcnt = {}\n",
    "        for i in sub_tokens:\n",
    "            if i!= \"-\":\n",
    "                wrdcnt[i] = wrdcnt.get(i,0)+1\n",
    "\n",
    "\n",
    "        def getinitinfo(tokens):\n",
    "\n",
    "            wordset = set()\n",
    "            worddict = {}\n",
    "            for i in tokens:\n",
    "                if i != \"-\":\n",
    "                    wordset.add(i)\n",
    "\n",
    "            cnt = 0\n",
    "            for i in wordset:\n",
    "                worddict[i] = cnt\n",
    "                cnt+=1\n",
    "            return worddict\n",
    "\n",
    "\n",
    "\n",
    "        dic = getinitinfo(sub_tokens)\n",
    "        N = len(dic)\n",
    "        graph = np.zeros((N,N))\n",
    "\n",
    "        # [\"hello world space\", \"-\", \"food\"]\n",
    "        for i in spacetokens:\n",
    "            if i!= \"-\":\n",
    "                spl = i.split()\n",
    "                for i in range(len(spl)):\n",
    "                    for j in range(i, len(spl)):\n",
    "                        graph[dic[spl[i]]][dic[spl[j]]] +=1\n",
    "                        if i!=j:\n",
    "                            graph[dic[spl[j]]][dic[spl[i]]] +=1\n",
    "\n",
    "        results = []\n",
    "\n",
    "        degree = np.sum(graph, axis=0)\n",
    "        for i, (k,v) in enumerate(dic.items()):\n",
    "\n",
    "            results.append((k,degree[v]/wrdcnt[k]))\n",
    "\n",
    "        results.sort(key=lambda x:x[1])\n",
    "        results = results[::-1]\n",
    "\n",
    "        keywords = set()\n",
    "        for word in spacetokens:\n",
    "            texspl = word.split()\n",
    "            score = 0\n",
    "            for x in results:\n",
    "                for y in texspl:\n",
    "                    if x[0] == y:\n",
    "                        score += x[1] \n",
    "            keywords.add((word,score))\n",
    "\n",
    "        keywords = list(keywords)\n",
    "        keywords.sort(key=lambda x:x[1])\n",
    "        keywords = keywords[::-1]\n",
    "        keywords = keywords[:len(keywords)//3]\n",
    "\n",
    "        return keywords\n"
   ]
  },
  {
   "cell_type": "code",
   "execution_count": 4,
   "metadata": {
    "id": "svKXwsf-2W4l",
    "outputId": "b00fa487-5bd5-4ad8-a4b4-a9e2a0e806ab",
    "colab": {
     "base_uri": "https://localhost:8080/"
    },
    "pycharm": {
     "name": "#%%\n"
    }
   },
   "outputs": [
    {
     "output_type": "stream",
     "name": "stdout",
     "text": [
      "[('smelled musty I recommend', 15.5), ('absolutely horrible I thought', 15.5), ('I thought I found', 15.0), ('chance worst place I', 13.833333333333334), ('This place', 4.333333333333334), ('overall dirty', 4.0)]\n"
     ]
    }
   ],
   "source": [
    "print(RakeExtract(text))"
   ]
  },
  {
   "cell_type": "code",
   "execution_count": null,
   "metadata": {
    "id": "1tv7ZNiw2W4l",
    "pycharm": {
     "name": "#%%\n"
    }
   },
   "outputs": [],
   "source": []
  }
 ],
 "metadata": {
  "kernelspec": {
   "display_name": "Python 3",
   "language": "python",
   "name": "python3"
  },
  "language_info": {
   "codemirror_mode": {
    "name": "ipython",
    "version": 3
   },
   "file_extension": ".py",
   "mimetype": "text/x-python",
   "name": "python",
   "nbconvert_exporter": "python",
   "pygments_lexer": "ipython3",
   "version": "3.8.5"
  },
  "colab": {
   "provenance": []
  }
 },
 "nbformat": 4,
 "nbformat_minor": 0
}