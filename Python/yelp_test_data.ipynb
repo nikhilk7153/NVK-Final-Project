{
 "cells": [
  {
   "cell_type": "code",
   "execution_count": 1,
   "id": "45a76b8d",
   "metadata": {},
   "outputs": [],
   "source": [
    "import requests\n",
    "import time\n",
    "import pandas as pd\n",
    "from yelp_helper import YelpHelper"
   ]
  },
  {
   "cell_type": "code",
   "execution_count": 2,
   "id": "cc64a7e4",
   "metadata": {},
   "outputs": [],
   "source": [
    "api_key = \"F6vsTDv2v2j-VjULctcSCUEmRRFs6bQ9tYQdHheyD0li2QNT-W7_BJcKa9zC7q626CFBv78g0iQ2GXFND9L3ZR-NAY0tTEZGUZ9nIYqb2GUB96m6XrgATcP_UOztYXYx\""
   ]
  },
  {
   "cell_type": "code",
   "execution_count": 3,
   "id": "f78f6048",
   "metadata": {},
   "outputs": [],
   "source": [
    "yelp_helper = YelpHelper()"
   ]
  },
  {
   "cell_type": "code",
   "execution_count": 4,
   "id": "74502c36",
   "metadata": {},
   "outputs": [],
   "source": [
    "def paginated_yelp_search(location, total=50, step=10):\n",
    "    ids = []\n",
    "    for offset in range(0, total, step):\n",
    "        businesses = yelp_helper.yelp_search(location, limit=step, offset=offset)\n",
    "        for business in businesses:\n",
    "            ids.append(business['id'])\n",
    "        time.sleep(0.2)\n",
    "        \n",
    "    return ids"
   ]
  },
  {
   "cell_type": "code",
   "execution_count": 5,
   "id": "be72e99b",
   "metadata": {},
   "outputs": [
    {
     "name": "stdout",
     "output_type": "stream",
     "text": [
      "['qjnpkS8yZO8xcyEIy5OU9A', 'cKZNbMvoqJaUe7n6lf6i7w', 'xoi7Cw7FoknAx5p880RtWQ', 'boE4Ahsssqic7o5wQLI04w', '8vFJH_paXsMocmEO_KAa3w', 'apyIymDFbUK7u-Y3V5kmkA', 'AkcZ1fUyB3RocKLYGFu20Q', 'y8jVBaHh8ntYkVqDXpsi1Q', 'LPwAwxEjetjdNh7Uadro3g', '-sdMTRmgExufOk6STZFi9w', 'DXwSYgiXqIVNdO9dazel6w', 'ziIfrqtyupmeNlPAOx6jTw', 'pbEiXam9YJL3neCYHGwLUA', '2tKMs0DbdxPSl2JeCJUEKw', 'pVPyt3TugMd8FW5LGznkQQ', 'WBU0yq9J8qiYQfI_fh2P1Q', 'rp17Dfjdh7JR4GGZwj6nqg', 'LYppbvgJlBG0SqjSKFiFGg', 'jGiKIJCVLZHXQDSNnSLPsw', 'ULEy88tbRkbwnDOOBdUCUQ', 'vvhfPV-Llkd4fE2SHuLVvA', '2DfcXGtDv7T_rnvl4lHzaQ', 'B_04jjMZjeGGKjaPcR3Kig', 'Z2nOMPedr7XYhgYhILJjEA', '9SY1qjFBIo8W48W6OTGWGg', 'bQaiow1WcwwSODUo9hHOMQ', 'mvFimrcREBIDo-pLAhMfNg', 'f1P5hZSitUEAC-mtXlBB7w', 'q7SQnw2xVHjWuyQXL3VHUg', 'dux6UvpMGJuHquFA3JfR3A', 'F7IQngaDDBgYvhA3U31q-g', 'oEFJ29zAQaCNnQzebHQvpg', 'LMaoM2Ue2BR_HI9ba3JsZg', 't2nXebM7aqTj_qq6saZ89g', '4i1Ny2zIE1VJSU9gLMkHqg', 'dKcO9OQ44RPRlkWe-vToFA', 'm5_GCJP2W4zEJnyVgxa3eA', 'QNbWTNuAEMWOurHN8rMXnA', '7vsOVA4wrHP6f3DMQdD8og', 'XKUZV9O2sRFLDIpAmwmG5g', 'zXDVdB7jofrt1IWODlOtUA', 'PZe0q_153VHUnaR-8dOTJg', '1hJYOI26FjCQ-Ce6iKAvug', 'lgjRFg3M-1N416W41DHsTQ', 'JfNZVzh052lwZKpIMgsA1g', '_d5Br6nZWpBNwL-4isroJA', 'cyoEeLb5rc9ZAeTO2dkEUQ', 'o54U2VkQama8FI30qDkWvw', '9mhqcimD0CYvqxzfj_VXnQ', 'cxAkuwv7p4gm4Coixw7h9A']\n",
      "50\n"
     ]
    }
   ],
   "source": [
    "ids = paginated_yelp_search(\"Chicago\")\n",
    "print(ids)\n",
    "print(len(ids))"
   ]
  },
  {
   "cell_type": "code",
   "execution_count": 6,
   "id": "b7c4e9b9",
   "metadata": {},
   "outputs": [],
   "source": [
    "def get_reviews_df(ids):\n",
    "    reviews = []\n",
    "    for business_id in ids:\n",
    "        new_reviews = yelp_helper.yelp_reviews_by_id(business_id)\n",
    "        reviews = reviews + new_reviews\n",
    "        time.sleep(0.2)\n",
    "    return pd.DataFrame(reviews, columns=['Review'])"
   ]
  },
  {
   "cell_type": "code",
   "execution_count": 7,
   "id": "4078253b",
   "metadata": {
    "scrolled": true
   },
   "outputs": [
    {
     "data": {
      "text/html": [
       "<div>\n",
       "<style scoped>\n",
       "    .dataframe tbody tr th:only-of-type {\n",
       "        vertical-align: middle;\n",
       "    }\n",
       "\n",
       "    .dataframe tbody tr th {\n",
       "        vertical-align: top;\n",
       "    }\n",
       "\n",
       "    .dataframe thead th {\n",
       "        text-align: right;\n",
       "    }\n",
       "</style>\n",
       "<table border=\"1\" class=\"dataframe\">\n",
       "  <thead>\n",
       "    <tr style=\"text-align: right;\">\n",
       "      <th></th>\n",
       "      <th>Review</th>\n",
       "    </tr>\n",
       "  </thead>\n",
       "  <tbody>\n",
       "    <tr>\n",
       "      <th>0</th>\n",
       "      <td>Absolutely recommend this restaurant. Food is ...</td>\n",
       "    </tr>\n",
       "    <tr>\n",
       "      <th>1</th>\n",
       "      <td>Worth it! I came here at opening time with my ...</td>\n",
       "    </tr>\n",
       "    <tr>\n",
       "      <th>2</th>\n",
       "      <td>The food was out of this world tasty. The gree...</td>\n",
       "    </tr>\n",
       "    <tr>\n",
       "      <th>3</th>\n",
       "      <td>Great portion sizes but expect to wait a while...</td>\n",
       "    </tr>\n",
       "    <tr>\n",
       "      <th>4</th>\n",
       "      <td>The food is amazing! I always go on Sundays. T...</td>\n",
       "    </tr>\n",
       "    <tr>\n",
       "      <th>...</th>\n",
       "      <td>...</td>\n",
       "    </tr>\n",
       "    <tr>\n",
       "      <th>145</th>\n",
       "      <td>The food is absolutely delicious and what a gr...</td>\n",
       "    </tr>\n",
       "    <tr>\n",
       "      <th>146</th>\n",
       "      <td>I was very impressed with this place. Based on...</td>\n",
       "    </tr>\n",
       "    <tr>\n",
       "      <th>147</th>\n",
       "      <td>As a guy that calls Texas home, I don't have t...</td>\n",
       "    </tr>\n",
       "    <tr>\n",
       "      <th>148</th>\n",
       "      <td>Food first:\\nThe classic pizza had so much ooe...</td>\n",
       "    </tr>\n",
       "    <tr>\n",
       "      <th>149</th>\n",
       "      <td>Had not been to Chicago in nearly 20 years, an...</td>\n",
       "    </tr>\n",
       "  </tbody>\n",
       "</table>\n",
       "<p>150 rows × 1 columns</p>\n",
       "</div>"
      ],
      "text/plain": [
       "                                                Review\n",
       "0    Absolutely recommend this restaurant. Food is ...\n",
       "1    Worth it! I came here at opening time with my ...\n",
       "2    The food was out of this world tasty. The gree...\n",
       "3    Great portion sizes but expect to wait a while...\n",
       "4    The food is amazing! I always go on Sundays. T...\n",
       "..                                                 ...\n",
       "145  The food is absolutely delicious and what a gr...\n",
       "146  I was very impressed with this place. Based on...\n",
       "147  As a guy that calls Texas home, I don't have t...\n",
       "148  Food first:\\nThe classic pizza had so much ooe...\n",
       "149  Had not been to Chicago in nearly 20 years, an...\n",
       "\n",
       "[150 rows x 1 columns]"
      ]
     },
     "execution_count": 7,
     "metadata": {},
     "output_type": "execute_result"
    }
   ],
   "source": [
    "df = get_reviews_df(ids)\n",
    "df"
   ]
  },
  {
   "cell_type": "code",
   "execution_count": 8,
   "id": "fcc3f282",
   "metadata": {},
   "outputs": [],
   "source": [
    "df.to_csv(\"reviews.csv\")"
   ]
  }
 ],
 "metadata": {
  "kernelspec": {
   "display_name": "Python 3 (ipykernel)",
   "language": "python",
   "name": "python3"
  },
  "language_info": {
   "codemirror_mode": {
    "name": "ipython",
    "version": 3
   },
   "file_extension": ".py",
   "mimetype": "text/x-python",
   "name": "python",
   "nbconvert_exporter": "python",
   "pygments_lexer": "ipython3",
   "version": "3.9.12"
  }
 },
 "nbformat": 4,
 "nbformat_minor": 5
}
